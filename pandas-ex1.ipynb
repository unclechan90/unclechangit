{
 "cells": [
  {
   "cell_type": "code",
   "execution_count": 2,
   "metadata": {},
   "outputs": [],
   "source": [
    "import pandas as pd\n",
    "import numpy as np\n",
    "from openpyxl.workbook import workbook as wb #แก้ไข ms excel\n",
    "from openpyxl import worksheet as ws #แก้ไข ms excel\n",
    "from docxtpl import DocxTemplate #แก้ไข ms word\n",
    "import PySimpleGUI as sg\n",
    "import tkinter as tk\n",
    "\n",
    "layout = [\n",
    "    [sg.Text(\"First Name\"), sg.Input(key=\"FIRST_NAME\")],\n",
    "    [sg.Text(\"Last Name\"), sg.Input(key=\"LAST_NAME\")],\n",
    "    [sg.Button(\"Read\"), sg.Exit()],\n",
    "]\n",
    "\n",
    "window = sg.Window(\"My first GUI\", layout)\n",
    "\n",
    "while True:\n",
    "    event, values = window.read()\n",
    "    if event == sg.WIN_CLOSED or event == \"Exit\":\n",
    "        break\n",
    "    if event == \"Read\":\n",
    "        print(event, values)\n",
    "\n",
    "window.close()\n",
    "\n",
    "#doc = DocxTemplate('D:\\\\Github Repository\\\\unclechangit\\\\Word\\\\jobform.docx')\n",
    "#context = {\"NAME\":\"CHANWIT\"}\n",
    "#doc.render(context)\n",
    "#doc.save('D:\\\\Github Repository\\\\unclechangit\\\\Word\\\\jobform2.docx')\n",
    "\n",
    "#df = pd.read_excel('D:\\\\Github Repository\\\\unclechangit\\\\excel\\\\Otherasset2.xlsx')\n",
    "#data1 = df.groupby(['Site_Owner_Name','Department','Province_Th','Type']).Site_Owner_Name.count()\n",
    "#data1.to_excel('D:\\\\Github Repository\\\\unclechangit\\\\excel\\\\Otherasset3.xlsx')"
   ]
  }
 ],
 "metadata": {
  "kernelspec": {
   "display_name": "Python 3",
   "language": "python",
   "name": "python3"
  },
  "language_info": {
   "codemirror_mode": {
    "name": "ipython",
    "version": 3
   },
   "file_extension": ".py",
   "mimetype": "text/x-python",
   "name": "python",
   "nbconvert_exporter": "python",
   "pygments_lexer": "ipython3",
   "version": "3.12.4"
  }
 },
 "nbformat": 4,
 "nbformat_minor": 2
}
