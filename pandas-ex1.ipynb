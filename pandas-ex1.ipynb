{
 "cells": [
  {
   "cell_type": "code",
   "execution_count": 9,
   "metadata": {},
   "outputs": [
    {
     "name": "stdout",
     "output_type": "stream",
     "text": [
      "chanwit kanthong\n",
      "35\n"
     ]
    }
   ],
   "source": [
    "import pandas as pd\n",
    "import numpy as np\n",
    "from openpyxl.workbook import workbook\n",
    "from openpyxl import load_workbook\n",
    "\n",
    "#def plusone(title):\n",
    "    #return title.replace('LENOVO', 'DELL')\n",
    "\n",
    "#df = pd.read_excel('D:\\\\Github\\\\unclechangit\\\\excel\\\\Otherasset2.xlsx', sheet_name='OtherAsset') #Github Repository\n",
    "#df['Manufacturer'].map(plusone)\n",
    "#df.head()\n",
    "wb = load_workbook('D:\\\\Github\\\\unclechangit\\\\excel\\\\test.xlsx')\n",
    "ws = wb.active\n",
    "name = ws[\"A1\"].value\n",
    "surname = ws[\"B1\"].value\n",
    "print(f'{name} {surname}')\n",
    "age = ws.cell(row=1, column=3, value='35')\n",
    "print(f'{age.value}')\n",
    "wb.save('D:\\\\Github\\\\unclechangit\\\\excel\\\\test.xlsx')"
   ]
  }
 ],
 "metadata": {
  "kernelspec": {
   "display_name": "Python 3",
   "language": "python",
   "name": "python3"
  },
  "language_info": {
   "codemirror_mode": {
    "name": "ipython",
    "version": 3
   },
   "file_extension": ".py",
   "mimetype": "text/x-python",
   "name": "python",
   "nbconvert_exporter": "python",
   "pygments_lexer": "ipython3",
   "version": "3.12.0"
  }
 },
 "nbformat": 4,
 "nbformat_minor": 2
}
