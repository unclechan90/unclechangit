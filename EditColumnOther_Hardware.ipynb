{
 "cells": [
  {
   "cell_type": "code",
   "execution_count": 3,
   "metadata": {},
   "outputs": [
    {
     "data": {
      "text/plain": [
       "(40385, 172)"
      ]
     },
     "execution_count": 3,
     "metadata": {},
     "output_type": "execute_result"
    }
   ],
   "source": [
    "import pandas as pd\n",
    "import numpy as np\n",
    "\n",
    "df = pd.read_excel(\"D:\\\\Github Repository\\\\unclechangit\\\\Other_Assets.xlsx\")\n",
    "\n"
   ]
  },
  {
   "cell_type": "code",
   "execution_count": 29,
   "metadata": {},
   "outputs": [],
   "source": [
    "new_col = df.iloc[0:0]\n",
    "new_col.columns = new_col.columns.str.replace('.','_', regex=False)\n",
    "df.columns = new_col.columns\n",
    "df.to_excel('Other_assets2.xlsx', index=False)"
   ]
  },
  {
   "cell_type": "code",
   "execution_count": 31,
   "metadata": {},
   "outputs": [],
   "source": [
    "\n",
    "df2 = pd.read_excel(\"D:\\\\Github Repository\\\\unclechangit\\\\Hardwares.xlsx\")\n",
    "hw_col = df2.iloc[0:0]\n",
    "hw_col.columns = hw_col.columns.str.replace('.','_', regex=False)\n",
    "df2.columns = hw_col.columns\n",
    "df2.to_excel('Hardwares2.xlsx', index=False)"
   ]
  }
 ],
 "metadata": {
  "kernelspec": {
   "display_name": "Python 3",
   "language": "python",
   "name": "python3"
  },
  "language_info": {
   "codemirror_mode": {
    "name": "ipython",
    "version": 3
   },
   "file_extension": ".py",
   "mimetype": "text/x-python",
   "name": "python",
   "nbconvert_exporter": "python",
   "pygments_lexer": "ipython3",
   "version": "3.12.4"
  }
 },
 "nbformat": 4,
 "nbformat_minor": 2
}
